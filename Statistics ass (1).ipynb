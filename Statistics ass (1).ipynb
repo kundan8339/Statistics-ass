{
 "cells": [
  {
   "cell_type": "code",
   "execution_count": null,
   "id": "2eb42325-78bd-4e55-9d8d-8c8a955b7d9c",
   "metadata": {},
   "outputs": [],
   "source": [
    "Q1. What is Statistics?"
   ]
  },
  {
   "cell_type": "markdown",
   "id": "5b0e2202-2a3a-4ac6-b67f-34cdd2b1f56f",
   "metadata": {},
   "source": [
    "Statistics is branch of mathematics that focuses on collecting,analyzing,interpreting, presenting and organizing, interpreting,presenting,and organizing data."
   ]
  },
  {
   "cell_type": "code",
   "execution_count": null,
   "id": "6f15eb72-83d8-472d-aedf-1b1da5ae0b29",
   "metadata": {},
   "outputs": [],
   "source": [
    "Q2. Define the different types of statistics and give an example of when each type might be used."
   ]
  },
  {
   "cell_type": "markdown",
   "id": "e676def9-8a3d-4153-9f65-1f03ec88386a",
   "metadata": {},
   "source": [
    "there are two types of statistic. 1 Descriptive 2 Inferential statistics"
   ]
  },
  {
   "cell_type": "markdown",
   "id": "0b8fef57-f91e-4a42-977e-5107e5226ada",
   "metadata": {},
   "source": [
    "Descriptive statistics\n",
    "mean,median,mode, standard deviation , Range, Histograms and Bar Charts\n",
    "\n",
    "\n",
    " Inferential statistics\n",
    " Hypothesis testing\n",
    " Confidence Intervals\n",
    " Regression Analysis\n",
    " Anova\n",
    " chi-squrare test"
   ]
  },
  {
   "cell_type": "code",
   "execution_count": null,
   "id": "b41b18d3-4407-490f-8a09-512429b873c7",
   "metadata": {},
   "outputs": [],
   "source": [
    "Q3. What are the different types of data and how do they differ from each other? Provide an example of\n",
    "each type of data."
   ]
  },
  {
   "cell_type": "markdown",
   "id": "adb2efb7-b2ba-4233-b252-33b7960e101c",
   "metadata": {},
   "source": [
    "1. Quatitative Data=data that can be use measured and expressed numerically.\n",
    "types >> Discrete data,continuous data\n",
    "2.Qualitative data=data that describes categories or group cannot be measured numerically\n",
    "Types >>> Nominal data , ordinal data\n",
    "3. Binary data \n",
    "4.Time Series Data\n",
    "5. Spatial data\n",
    "6.Textual data\n",
    "7.Audio data\n",
    "8.Video data"
   ]
  },
  {
   "cell_type": "code",
   "execution_count": null,
   "id": "212be2ea-0f4e-4593-82a4-af96fc77dd2e",
   "metadata": {},
   "outputs": [],
   "source": [
    "Q4. Categorise the following datasets with respect to quantitative and qualitative data types:\n",
    "(i) Grading in exam: A+, A, B+, B, C+, C, D, E\n",
    "(ii) Colour of mangoes: yellow, green, orange, red\n",
    "(iii) Height data of a class: [178.9, 179, 179.5, 176, 177.2, 178.3, 175.8,...]\n",
    "(iv) Number of mangoes exported by a farm: [500, 600, 478, 672, ...]"
   ]
  },
  {
   "cell_type": "code",
   "execution_count": null,
   "id": "24d5e63b-6556-4b1e-a55a-7d71a4eb949b",
   "metadata": {},
   "outputs": [],
   "source": [
    "\n",
    "(i) Grading in exam: A+, A, B+, B, C+, C, D, E\n",
    "\n",
    "Qualitive type (ordinal)=these grade represent meaningful order\n",
    "\n",
    "(ii) Colour of mangoes: yellow, green, orange, red\n",
    "\n",
    "(2) Qualitive type (Nominal)\n",
    "(3)Qualitive type (Continuous)\n",
    "(4)Qualitive type (Discrete)"
   ]
  },
  {
   "cell_type": "code",
   "execution_count": null,
   "id": "6dba1ff3-15b9-4eb2-952c-8d9331ac617d",
   "metadata": {},
   "outputs": [],
   "source": [
    "Q5. Explain the concept of levels of measurement and give an example of a variable for each level."
   ]
  },
  {
   "cell_type": "code",
   "execution_count": null,
   "id": "cd2ac92b-6885-4a32-9bac-c0ef04f63e9b",
   "metadata": {},
   "outputs": [],
   "source": [
    "LEVEL OF MEASUREMENT\n",
    "1.Nominal types of fruits(apple,banana, cherry)\n",
    "2.Ordinal Educational level (elementary,middel,highschool)\n",
    "3.Interval  temperature in celsius(10'c,20'c)\n",
    "4.Ratio weight(50kg , 60kg, 70kg)"
   ]
  },
  {
   "cell_type": "code",
   "execution_count": null,
   "id": "29687625-11b1-49d2-9288-f7f881e30f46",
   "metadata": {},
   "outputs": [],
   "source": [
    "Q6. Why is it important to understand the level of measurement when analyzing data? Provide an\n",
    "example to illustrate your answer."
   ]
  },
  {
   "cell_type": "markdown",
   "id": "26b0dd6c-db2b-4f62-800b-9708fa0587df",
   "metadata": {},
   "source": [
    "understandng the level of measurement in data analysis is crucial because it determines the appropriate statistical methods and operations that can be applied to the data .Each level of measurment has distinct properties that affect how data can be described summarized and  interpreted. the four levels of measurment are nominal, ordinal, interval , and ratio.\n",
    "Example to illustrate:\n",
    "1.Favorite Fruit(Nominal)\n",
    "2.Age(ratio)\n",
    "3.Moving Rating(ordinal/Interval)"
   ]
  },
  {
   "cell_type": "code",
   "execution_count": null,
   "id": "9290e210-b6ae-432a-9c2b-329aae0f6d01",
   "metadata": {},
   "outputs": [],
   "source": [
    "Q7. How nominal data type is different from ordinal data type."
   ]
  },
  {
   "cell_type": "markdown",
   "id": "4761bf34-0623-4fd1-aa37-937014738378",
   "metadata": {},
   "source": [
    "Nominal Data:\n",
    "    Nominal data classifies data into distinct categories that do not have any inherent order or ranking.\n",
    "examples: Gender(male,female,non-binary)\n",
    "Blood type(A,B,AB,O)\n",
    "Colors(red,blue,green)\n",
    "Characteristics:\n",
    "No order , Identity Only , Operations \n",
    "ordinal Data:\n",
    "   this data classified data into categories that have a meaningful order or ranking\n",
    "   example;Education level , customer satisfaction, class ranking(1,2,3rd)\n",
    "Characteristics:\n",
    "Ordered Categories , Relative Position , Rank-Based Operations:\n"
   ]
  },
  {
   "cell_type": "code",
   "execution_count": null,
   "id": "b49cbe8f-0917-4c97-bfcf-037f9e229748",
   "metadata": {},
   "outputs": [],
   "source": [
    "Q8. Which type of plot can be used to display data in terms of range?"
   ]
  },
  {
   "cell_type": "markdown",
   "id": "312207bf-4848-474e-83ea-f770d63cefad",
   "metadata": {},
   "source": [
    "when displaying data in terms of range, several types of plots can effectively showcase the spread or distribution of data values.\n",
    "1.Box Plot\n",
    "2.Range Plot\n",
    "3.Error Bar Plot\n",
    "4.Dot Plot with Error Bars\n",
    "5.Violin plot\n",
    "6.Interval Plot"
   ]
  },
  {
   "cell_type": "code",
   "execution_count": null,
   "id": "d7e76ffe-32c6-456f-95a7-c5f3df5524b2",
   "metadata": {},
   "outputs": [],
   "source": [
    "Q9. Describe the difference between descriptive and inferential statistics. Give an example of each\n",
    "type of statistics and explain how they are used."
   ]
  },
  {
   "cell_type": "markdown",
   "id": "e8c0f703-9961-487c-a2da-75c5711db4ae",
   "metadata": {},
   "source": [
    "They are two fundamental brnches of statistics each serving distinct purposes in data analysis.\n",
    "\n",
    "Descriptive statistics\n",
    "mean,median,mode, standard deviation , Range, Histograms and Bar Charts\n",
    "\n"
   ]
  },
  {
   "cell_type": "markdown",
   "id": "ba271c84-17c7-492d-9bd6-04c52d2b8159",
   "metadata": {},
   "source": [
    "Inferential statistics\n",
    " Hypothesis testing\n",
    " Confidence Intervals\n",
    " Regression Analysis\n",
    " Estimation"
   ]
  },
  {
   "cell_type": "markdown",
   "id": "25773a0f-bf72-4e65-858d-a548945d24d6",
   "metadata": {},
   "source": [
    "Q10. What are some common measures of central tendency and variability used in statistics? Explain\n",
    "how each measure can be used to describe a dataset."
   ]
  },
  {
   "cell_type": "code",
   "execution_count": null,
   "id": "ad562b1d-553c-4604-9060-4f90f2e8cca2",
   "metadata": {},
   "outputs": [],
   "source": [
    "Measures of Cental Tendency\n",
    "1.mean\n",
    "2.Median\n",
    "3.mode\n",
    "Measures of Variability(Dispersion)\n",
    "1.Range\n",
    "2.Variance\n",
    "3.Sta"
   ]
  },
  {
   "cell_type": "code",
   "execution_count": null,
   "id": "5aec4e3c-8347-470e-b80c-80060e4b73a7",
   "metadata": {},
   "outputs": [],
   "source": []
  },
  {
   "cell_type": "code",
   "execution_count": null,
   "id": "15a021c0-d3b1-43cc-acfa-3eaa36d5c3be",
   "metadata": {},
   "outputs": [],
   "source": []
  },
  {
   "cell_type": "code",
   "execution_count": null,
   "id": "29e62686-a31e-45aa-9556-b439075a0823",
   "metadata": {},
   "outputs": [],
   "source": []
  },
  {
   "cell_type": "code",
   "execution_count": null,
   "id": "92b16310-ff07-4336-b060-bc003cf126a5",
   "metadata": {},
   "outputs": [],
   "source": []
  },
  {
   "cell_type": "code",
   "execution_count": null,
   "id": "6e2c18ad-c718-4436-a565-3ded00a2ba0d",
   "metadata": {},
   "outputs": [],
   "source": []
  },
  {
   "cell_type": "code",
   "execution_count": null,
   "id": "1d15d1f3-e5e3-4c63-9453-4d13f0ed535d",
   "metadata": {},
   "outputs": [],
   "source": []
  },
  {
   "cell_type": "code",
   "execution_count": null,
   "id": "5e77f629-bd7a-4754-b2c8-1f721d4398e6",
   "metadata": {},
   "outputs": [],
   "source": []
  },
  {
   "cell_type": "code",
   "execution_count": null,
   "id": "af1ef3c3-2135-43bf-ba85-3c98ec6b87da",
   "metadata": {},
   "outputs": [],
   "source": []
  },
  {
   "cell_type": "code",
   "execution_count": null,
   "id": "3d640f76-72d9-4191-9259-3fb7cf479f66",
   "metadata": {},
   "outputs": [],
   "source": []
  },
  {
   "cell_type": "code",
   "execution_count": null,
   "id": "74ff80f1-cee9-481f-9717-ec75c41c10a6",
   "metadata": {},
   "outputs": [],
   "source": []
  }
 ],
 "metadata": {
  "kernelspec": {
   "display_name": "Python 3 (ipykernel)",
   "language": "python",
   "name": "python3"
  },
  "language_info": {
   "codemirror_mode": {
    "name": "ipython",
    "version": 3
   },
   "file_extension": ".py",
   "mimetype": "text/x-python",
   "name": "python",
   "nbconvert_exporter": "python",
   "pygments_lexer": "ipython3",
   "version": "3.10.8"
  }
 },
 "nbformat": 4,
 "nbformat_minor": 5
}
